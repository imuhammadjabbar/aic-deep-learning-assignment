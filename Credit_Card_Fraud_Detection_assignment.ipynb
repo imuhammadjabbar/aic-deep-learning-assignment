{
  "nbformat": 4,
  "nbformat_minor": 0,
  "metadata": {
    "colab": {
      "name": "Credit Card Fraud Detection assignment.ipynb",
      "provenance": []
    },
    "kernelspec": {
      "name": "python3",
      "display_name": "Python 3"
    },
    "language_info": {
      "name": "python"
    }
  },
  "cells": [
    {
      "cell_type": "code",
      "metadata": {
        "colab": {
          "resources": {
            "http://localhost:8080/nbextensions/google.colab/files.js": {
              "data": "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",
              "ok": true,
              "headers": [
                [
                  "content-type",
                  "application/javascript"
                ]
              ],
              "status": 200,
              "status_text": ""
            }
          },
          "base_uri": "https://localhost:8080/",
          "height": 72
        },
        "id": "Ak8Yzv9D0_ig",
        "outputId": "2e025125-31a5-4cf9-cb51-c43c0996ad7e"
      },
      "source": [
        "from google.colab import files\n",
        "uploaded = files.upload()"
      ],
      "execution_count": 3,
      "outputs": [
        {
          "output_type": "display_data",
          "data": {
            "text/html": [
              "\n",
              "     <input type=\"file\" id=\"files-84c0eeb5-3e4f-43af-860d-239d5e48385c\" name=\"files[]\" multiple disabled\n",
              "        style=\"border:none\" />\n",
              "     <output id=\"result-84c0eeb5-3e4f-43af-860d-239d5e48385c\">\n",
              "      Upload widget is only available when the cell has been executed in the\n",
              "      current browser session. Please rerun this cell to enable.\n",
              "      </output>\n",
              "      <script src=\"/nbextensions/google.colab/files.js\"></script> "
            ],
            "text/plain": [
              "<IPython.core.display.HTML object>"
            ]
          },
          "metadata": {
            "tags": []
          }
        },
        {
          "output_type": "stream",
          "text": [
            "Saving creditcard.csv to creditcard.csv\n"
          ],
          "name": "stdout"
        }
      ]
    },
    {
      "cell_type": "code",
      "metadata": {
        "colab": {
          "base_uri": "https://localhost:8080/",
          "height": 439
        },
        "id": "YET5VmNA18qT",
        "outputId": "36b67c7a-db77-4404-b018-e9eb8a822674"
      },
      "source": [
        "import pandas as pd\n",
        "import numpy as np\n",
        "import matplotlib.pyplot as plt\n",
        "#from sklearn.model_selection import train_test_split\n",
        "#from sklearn.preprocessing import LabelBinarizer, LabelEncoder\n",
        "import tensorflow as tf\n",
        "import seaborn as sns\n",
        "from scipy import stats\n",
        "from tensorflow.keras.models import Sequential\n",
        "from tensorflow.keras.layers import Dense, Dropout\n",
        "from tensorflow.keras import regularizers\n",
        "import tensorboard\n",
        "from pylab import rcParams\n",
        "data = pd.read_csv(\"creditcard.csv\")\n",
        "data"
      ],
      "execution_count": 13,
      "outputs": [
        {
          "output_type": "execute_result",
          "data": {
            "text/html": [
              "<div>\n",
              "<style scoped>\n",
              "    .dataframe tbody tr th:only-of-type {\n",
              "        vertical-align: middle;\n",
              "    }\n",
              "\n",
              "    .dataframe tbody tr th {\n",
              "        vertical-align: top;\n",
              "    }\n",
              "\n",
              "    .dataframe thead th {\n",
              "        text-align: right;\n",
              "    }\n",
              "</style>\n",
              "<table border=\"1\" class=\"dataframe\">\n",
              "  <thead>\n",
              "    <tr style=\"text-align: right;\">\n",
              "      <th></th>\n",
              "      <th>Time</th>\n",
              "      <th>V1</th>\n",
              "      <th>V2</th>\n",
              "      <th>V3</th>\n",
              "      <th>V4</th>\n",
              "      <th>V5</th>\n",
              "      <th>V6</th>\n",
              "      <th>V7</th>\n",
              "      <th>V8</th>\n",
              "      <th>V9</th>\n",
              "      <th>V10</th>\n",
              "      <th>V11</th>\n",
              "      <th>V12</th>\n",
              "      <th>V13</th>\n",
              "      <th>V14</th>\n",
              "      <th>V15</th>\n",
              "      <th>V16</th>\n",
              "      <th>V17</th>\n",
              "      <th>V18</th>\n",
              "      <th>V19</th>\n",
              "      <th>V20</th>\n",
              "      <th>V21</th>\n",
              "      <th>V22</th>\n",
              "      <th>V23</th>\n",
              "      <th>V24</th>\n",
              "      <th>V25</th>\n",
              "      <th>V26</th>\n",
              "      <th>V27</th>\n",
              "      <th>V28</th>\n",
              "      <th>Amount</th>\n",
              "      <th>Class</th>\n",
              "    </tr>\n",
              "  </thead>\n",
              "  <tbody>\n",
              "    <tr>\n",
              "      <th>0</th>\n",
              "      <td>0.0</td>\n",
              "      <td>-1.359807</td>\n",
              "      <td>-0.072781</td>\n",
              "      <td>2.536347</td>\n",
              "      <td>1.378155</td>\n",
              "      <td>-0.338321</td>\n",
              "      <td>0.462388</td>\n",
              "      <td>0.239599</td>\n",
              "      <td>0.098698</td>\n",
              "      <td>0.363787</td>\n",
              "      <td>0.090794</td>\n",
              "      <td>-0.551600</td>\n",
              "      <td>-0.617801</td>\n",
              "      <td>-0.991390</td>\n",
              "      <td>-0.311169</td>\n",
              "      <td>1.468177</td>\n",
              "      <td>-0.470401</td>\n",
              "      <td>0.207971</td>\n",
              "      <td>0.025791</td>\n",
              "      <td>0.403993</td>\n",
              "      <td>0.251412</td>\n",
              "      <td>-0.018307</td>\n",
              "      <td>0.277838</td>\n",
              "      <td>-0.110474</td>\n",
              "      <td>0.066928</td>\n",
              "      <td>0.128539</td>\n",
              "      <td>-0.189115</td>\n",
              "      <td>0.133558</td>\n",
              "      <td>-0.021053</td>\n",
              "      <td>149.62</td>\n",
              "      <td>0</td>\n",
              "    </tr>\n",
              "    <tr>\n",
              "      <th>1</th>\n",
              "      <td>0.0</td>\n",
              "      <td>1.191857</td>\n",
              "      <td>0.266151</td>\n",
              "      <td>0.166480</td>\n",
              "      <td>0.448154</td>\n",
              "      <td>0.060018</td>\n",
              "      <td>-0.082361</td>\n",
              "      <td>-0.078803</td>\n",
              "      <td>0.085102</td>\n",
              "      <td>-0.255425</td>\n",
              "      <td>-0.166974</td>\n",
              "      <td>1.612727</td>\n",
              "      <td>1.065235</td>\n",
              "      <td>0.489095</td>\n",
              "      <td>-0.143772</td>\n",
              "      <td>0.635558</td>\n",
              "      <td>0.463917</td>\n",
              "      <td>-0.114805</td>\n",
              "      <td>-0.183361</td>\n",
              "      <td>-0.145783</td>\n",
              "      <td>-0.069083</td>\n",
              "      <td>-0.225775</td>\n",
              "      <td>-0.638672</td>\n",
              "      <td>0.101288</td>\n",
              "      <td>-0.339846</td>\n",
              "      <td>0.167170</td>\n",
              "      <td>0.125895</td>\n",
              "      <td>-0.008983</td>\n",
              "      <td>0.014724</td>\n",
              "      <td>2.69</td>\n",
              "      <td>0</td>\n",
              "    </tr>\n",
              "    <tr>\n",
              "      <th>2</th>\n",
              "      <td>1.0</td>\n",
              "      <td>-1.358354</td>\n",
              "      <td>-1.340163</td>\n",
              "      <td>1.773209</td>\n",
              "      <td>0.379780</td>\n",
              "      <td>-0.503198</td>\n",
              "      <td>1.800499</td>\n",
              "      <td>0.791461</td>\n",
              "      <td>0.247676</td>\n",
              "      <td>-1.514654</td>\n",
              "      <td>0.207643</td>\n",
              "      <td>0.624501</td>\n",
              "      <td>0.066084</td>\n",
              "      <td>0.717293</td>\n",
              "      <td>-0.165946</td>\n",
              "      <td>2.345865</td>\n",
              "      <td>-2.890083</td>\n",
              "      <td>1.109969</td>\n",
              "      <td>-0.121359</td>\n",
              "      <td>-2.261857</td>\n",
              "      <td>0.524980</td>\n",
              "      <td>0.247998</td>\n",
              "      <td>0.771679</td>\n",
              "      <td>0.909412</td>\n",
              "      <td>-0.689281</td>\n",
              "      <td>-0.327642</td>\n",
              "      <td>-0.139097</td>\n",
              "      <td>-0.055353</td>\n",
              "      <td>-0.059752</td>\n",
              "      <td>378.66</td>\n",
              "      <td>0</td>\n",
              "    </tr>\n",
              "    <tr>\n",
              "      <th>3</th>\n",
              "      <td>1.0</td>\n",
              "      <td>-0.966272</td>\n",
              "      <td>-0.185226</td>\n",
              "      <td>1.792993</td>\n",
              "      <td>-0.863291</td>\n",
              "      <td>-0.010309</td>\n",
              "      <td>1.247203</td>\n",
              "      <td>0.237609</td>\n",
              "      <td>0.377436</td>\n",
              "      <td>-1.387024</td>\n",
              "      <td>-0.054952</td>\n",
              "      <td>-0.226487</td>\n",
              "      <td>0.178228</td>\n",
              "      <td>0.507757</td>\n",
              "      <td>-0.287924</td>\n",
              "      <td>-0.631418</td>\n",
              "      <td>-1.059647</td>\n",
              "      <td>-0.684093</td>\n",
              "      <td>1.965775</td>\n",
              "      <td>-1.232622</td>\n",
              "      <td>-0.208038</td>\n",
              "      <td>-0.108300</td>\n",
              "      <td>0.005274</td>\n",
              "      <td>-0.190321</td>\n",
              "      <td>-1.175575</td>\n",
              "      <td>0.647376</td>\n",
              "      <td>-0.221929</td>\n",
              "      <td>0.062723</td>\n",
              "      <td>0.061458</td>\n",
              "      <td>123.50</td>\n",
              "      <td>0</td>\n",
              "    </tr>\n",
              "    <tr>\n",
              "      <th>4</th>\n",
              "      <td>2.0</td>\n",
              "      <td>-1.158233</td>\n",
              "      <td>0.877737</td>\n",
              "      <td>1.548718</td>\n",
              "      <td>0.403034</td>\n",
              "      <td>-0.407193</td>\n",
              "      <td>0.095921</td>\n",
              "      <td>0.592941</td>\n",
              "      <td>-0.270533</td>\n",
              "      <td>0.817739</td>\n",
              "      <td>0.753074</td>\n",
              "      <td>-0.822843</td>\n",
              "      <td>0.538196</td>\n",
              "      <td>1.345852</td>\n",
              "      <td>-1.119670</td>\n",
              "      <td>0.175121</td>\n",
              "      <td>-0.451449</td>\n",
              "      <td>-0.237033</td>\n",
              "      <td>-0.038195</td>\n",
              "      <td>0.803487</td>\n",
              "      <td>0.408542</td>\n",
              "      <td>-0.009431</td>\n",
              "      <td>0.798278</td>\n",
              "      <td>-0.137458</td>\n",
              "      <td>0.141267</td>\n",
              "      <td>-0.206010</td>\n",
              "      <td>0.502292</td>\n",
              "      <td>0.219422</td>\n",
              "      <td>0.215153</td>\n",
              "      <td>69.99</td>\n",
              "      <td>0</td>\n",
              "    </tr>\n",
              "    <tr>\n",
              "      <th>...</th>\n",
              "      <td>...</td>\n",
              "      <td>...</td>\n",
              "      <td>...</td>\n",
              "      <td>...</td>\n",
              "      <td>...</td>\n",
              "      <td>...</td>\n",
              "      <td>...</td>\n",
              "      <td>...</td>\n",
              "      <td>...</td>\n",
              "      <td>...</td>\n",
              "      <td>...</td>\n",
              "      <td>...</td>\n",
              "      <td>...</td>\n",
              "      <td>...</td>\n",
              "      <td>...</td>\n",
              "      <td>...</td>\n",
              "      <td>...</td>\n",
              "      <td>...</td>\n",
              "      <td>...</td>\n",
              "      <td>...</td>\n",
              "      <td>...</td>\n",
              "      <td>...</td>\n",
              "      <td>...</td>\n",
              "      <td>...</td>\n",
              "      <td>...</td>\n",
              "      <td>...</td>\n",
              "      <td>...</td>\n",
              "      <td>...</td>\n",
              "      <td>...</td>\n",
              "      <td>...</td>\n",
              "      <td>...</td>\n",
              "    </tr>\n",
              "    <tr>\n",
              "      <th>284802</th>\n",
              "      <td>172786.0</td>\n",
              "      <td>-11.881118</td>\n",
              "      <td>10.071785</td>\n",
              "      <td>-9.834783</td>\n",
              "      <td>-2.066656</td>\n",
              "      <td>-5.364473</td>\n",
              "      <td>-2.606837</td>\n",
              "      <td>-4.918215</td>\n",
              "      <td>7.305334</td>\n",
              "      <td>1.914428</td>\n",
              "      <td>4.356170</td>\n",
              "      <td>-1.593105</td>\n",
              "      <td>2.711941</td>\n",
              "      <td>-0.689256</td>\n",
              "      <td>4.626942</td>\n",
              "      <td>-0.924459</td>\n",
              "      <td>1.107641</td>\n",
              "      <td>1.991691</td>\n",
              "      <td>0.510632</td>\n",
              "      <td>-0.682920</td>\n",
              "      <td>1.475829</td>\n",
              "      <td>0.213454</td>\n",
              "      <td>0.111864</td>\n",
              "      <td>1.014480</td>\n",
              "      <td>-0.509348</td>\n",
              "      <td>1.436807</td>\n",
              "      <td>0.250034</td>\n",
              "      <td>0.943651</td>\n",
              "      <td>0.823731</td>\n",
              "      <td>0.77</td>\n",
              "      <td>0</td>\n",
              "    </tr>\n",
              "    <tr>\n",
              "      <th>284803</th>\n",
              "      <td>172787.0</td>\n",
              "      <td>-0.732789</td>\n",
              "      <td>-0.055080</td>\n",
              "      <td>2.035030</td>\n",
              "      <td>-0.738589</td>\n",
              "      <td>0.868229</td>\n",
              "      <td>1.058415</td>\n",
              "      <td>0.024330</td>\n",
              "      <td>0.294869</td>\n",
              "      <td>0.584800</td>\n",
              "      <td>-0.975926</td>\n",
              "      <td>-0.150189</td>\n",
              "      <td>0.915802</td>\n",
              "      <td>1.214756</td>\n",
              "      <td>-0.675143</td>\n",
              "      <td>1.164931</td>\n",
              "      <td>-0.711757</td>\n",
              "      <td>-0.025693</td>\n",
              "      <td>-1.221179</td>\n",
              "      <td>-1.545556</td>\n",
              "      <td>0.059616</td>\n",
              "      <td>0.214205</td>\n",
              "      <td>0.924384</td>\n",
              "      <td>0.012463</td>\n",
              "      <td>-1.016226</td>\n",
              "      <td>-0.606624</td>\n",
              "      <td>-0.395255</td>\n",
              "      <td>0.068472</td>\n",
              "      <td>-0.053527</td>\n",
              "      <td>24.79</td>\n",
              "      <td>0</td>\n",
              "    </tr>\n",
              "    <tr>\n",
              "      <th>284804</th>\n",
              "      <td>172788.0</td>\n",
              "      <td>1.919565</td>\n",
              "      <td>-0.301254</td>\n",
              "      <td>-3.249640</td>\n",
              "      <td>-0.557828</td>\n",
              "      <td>2.630515</td>\n",
              "      <td>3.031260</td>\n",
              "      <td>-0.296827</td>\n",
              "      <td>0.708417</td>\n",
              "      <td>0.432454</td>\n",
              "      <td>-0.484782</td>\n",
              "      <td>0.411614</td>\n",
              "      <td>0.063119</td>\n",
              "      <td>-0.183699</td>\n",
              "      <td>-0.510602</td>\n",
              "      <td>1.329284</td>\n",
              "      <td>0.140716</td>\n",
              "      <td>0.313502</td>\n",
              "      <td>0.395652</td>\n",
              "      <td>-0.577252</td>\n",
              "      <td>0.001396</td>\n",
              "      <td>0.232045</td>\n",
              "      <td>0.578229</td>\n",
              "      <td>-0.037501</td>\n",
              "      <td>0.640134</td>\n",
              "      <td>0.265745</td>\n",
              "      <td>-0.087371</td>\n",
              "      <td>0.004455</td>\n",
              "      <td>-0.026561</td>\n",
              "      <td>67.88</td>\n",
              "      <td>0</td>\n",
              "    </tr>\n",
              "    <tr>\n",
              "      <th>284805</th>\n",
              "      <td>172788.0</td>\n",
              "      <td>-0.240440</td>\n",
              "      <td>0.530483</td>\n",
              "      <td>0.702510</td>\n",
              "      <td>0.689799</td>\n",
              "      <td>-0.377961</td>\n",
              "      <td>0.623708</td>\n",
              "      <td>-0.686180</td>\n",
              "      <td>0.679145</td>\n",
              "      <td>0.392087</td>\n",
              "      <td>-0.399126</td>\n",
              "      <td>-1.933849</td>\n",
              "      <td>-0.962886</td>\n",
              "      <td>-1.042082</td>\n",
              "      <td>0.449624</td>\n",
              "      <td>1.962563</td>\n",
              "      <td>-0.608577</td>\n",
              "      <td>0.509928</td>\n",
              "      <td>1.113981</td>\n",
              "      <td>2.897849</td>\n",
              "      <td>0.127434</td>\n",
              "      <td>0.265245</td>\n",
              "      <td>0.800049</td>\n",
              "      <td>-0.163298</td>\n",
              "      <td>0.123205</td>\n",
              "      <td>-0.569159</td>\n",
              "      <td>0.546668</td>\n",
              "      <td>0.108821</td>\n",
              "      <td>0.104533</td>\n",
              "      <td>10.00</td>\n",
              "      <td>0</td>\n",
              "    </tr>\n",
              "    <tr>\n",
              "      <th>284806</th>\n",
              "      <td>172792.0</td>\n",
              "      <td>-0.533413</td>\n",
              "      <td>-0.189733</td>\n",
              "      <td>0.703337</td>\n",
              "      <td>-0.506271</td>\n",
              "      <td>-0.012546</td>\n",
              "      <td>-0.649617</td>\n",
              "      <td>1.577006</td>\n",
              "      <td>-0.414650</td>\n",
              "      <td>0.486180</td>\n",
              "      <td>-0.915427</td>\n",
              "      <td>-1.040458</td>\n",
              "      <td>-0.031513</td>\n",
              "      <td>-0.188093</td>\n",
              "      <td>-0.084316</td>\n",
              "      <td>0.041333</td>\n",
              "      <td>-0.302620</td>\n",
              "      <td>-0.660377</td>\n",
              "      <td>0.167430</td>\n",
              "      <td>-0.256117</td>\n",
              "      <td>0.382948</td>\n",
              "      <td>0.261057</td>\n",
              "      <td>0.643078</td>\n",
              "      <td>0.376777</td>\n",
              "      <td>0.008797</td>\n",
              "      <td>-0.473649</td>\n",
              "      <td>-0.818267</td>\n",
              "      <td>-0.002415</td>\n",
              "      <td>0.013649</td>\n",
              "      <td>217.00</td>\n",
              "      <td>0</td>\n",
              "    </tr>\n",
              "  </tbody>\n",
              "</table>\n",
              "<p>284807 rows × 31 columns</p>\n",
              "</div>"
            ],
            "text/plain": [
              "            Time         V1         V2  ...       V28  Amount  Class\n",
              "0            0.0  -1.359807  -0.072781  ... -0.021053  149.62      0\n",
              "1            0.0   1.191857   0.266151  ...  0.014724    2.69      0\n",
              "2            1.0  -1.358354  -1.340163  ... -0.059752  378.66      0\n",
              "3            1.0  -0.966272  -0.185226  ...  0.061458  123.50      0\n",
              "4            2.0  -1.158233   0.877737  ...  0.215153   69.99      0\n",
              "...          ...        ...        ...  ...       ...     ...    ...\n",
              "284802  172786.0 -11.881118  10.071785  ...  0.823731    0.77      0\n",
              "284803  172787.0  -0.732789  -0.055080  ... -0.053527   24.79      0\n",
              "284804  172788.0   1.919565  -0.301254  ... -0.026561   67.88      0\n",
              "284805  172788.0  -0.240440   0.530483  ...  0.104533   10.00      0\n",
              "284806  172792.0  -0.533413  -0.189733  ...  0.013649  217.00      0\n",
              "\n",
              "[284807 rows x 31 columns]"
            ]
          },
          "metadata": {
            "tags": []
          },
          "execution_count": 13
        }
      ]
    },
    {
      "cell_type": "code",
      "metadata": {
        "colab": {
          "base_uri": "https://localhost:8080/"
        },
        "id": "bDRjtrBCAOAJ",
        "outputId": "ddf3b6ae-456a-4554-f5e2-4691cd8559a5"
      },
      "source": [
        "#check null values\n",
        "data.isnull().sum()"
      ],
      "execution_count": 14,
      "outputs": [
        {
          "output_type": "execute_result",
          "data": {
            "text/plain": [
              "Time      0\n",
              "V1        0\n",
              "V2        0\n",
              "V3        0\n",
              "V4        0\n",
              "V5        0\n",
              "V6        0\n",
              "V7        0\n",
              "V8        0\n",
              "V9        0\n",
              "V10       0\n",
              "V11       0\n",
              "V12       0\n",
              "V13       0\n",
              "V14       0\n",
              "V15       0\n",
              "V16       0\n",
              "V17       0\n",
              "V18       0\n",
              "V19       0\n",
              "V20       0\n",
              "V21       0\n",
              "V22       0\n",
              "V23       0\n",
              "V24       0\n",
              "V25       0\n",
              "V26       0\n",
              "V27       0\n",
              "V28       0\n",
              "Amount    0\n",
              "Class     0\n",
              "dtype: int64"
            ]
          },
          "metadata": {
            "tags": []
          },
          "execution_count": 14
        }
      ]
    },
    {
      "cell_type": "code",
      "metadata": {
        "id": "bHI4Yb6qAxqx"
      },
      "source": [
        "# Renaming Columns\n",
        "data.rename(columns = {\"Class\": \"Fraud\"}, inplace = True)"
      ],
      "execution_count": 15,
      "outputs": []
    },
    {
      "cell_type": "code",
      "metadata": {
        "colab": {
          "base_uri": "https://localhost:8080/"
        },
        "id": "xWGVF5CjExyj",
        "outputId": "c6d8a3f5-9ff8-4262-e125-6df02a3f8291"
      },
      "source": [
        "#chepe check\n",
        "data.shape"
      ],
      "execution_count": 16,
      "outputs": [
        {
          "output_type": "execute_result",
          "data": {
            "text/plain": [
              "(284807, 31)"
            ]
          },
          "metadata": {
            "tags": []
          },
          "execution_count": 16
        }
      ]
    },
    {
      "cell_type": "code",
      "metadata": {
        "colab": {
          "base_uri": "https://localhost:8080/",
          "height": 638
        },
        "id": "2-vdPiS7Pmo4",
        "outputId": "73132dc9-a218-49db-9f33-18f22d07e98d"
      },
      "source": [
        "# Checking Correlations\n",
        "correlations = data.corr()\n",
        "\n",
        "# mask generate of upper triangle\n",
        "mask = np.zeros_like(correlations, dtype=np.bool)\n",
        "mask[np.triu_indices_from(mask)] = True\n",
        "\n",
        "# figure size\n",
        "fig, ax = plt.subplots(figsize=(20, 10))\n",
        "\n",
        "# generate a custom diverging colormap\n",
        "cmap = sns.diverging_palette(220, 10, as_cmap=True)\n",
        "\n",
        "# draw the heatmap with the mask and correct aspect ratio\n",
        "sns.heatmap(correlations, mask=mask, cmap='CMRmap_r', vmax=.3, center=0, square=True,\n",
        "            linewidths=.5, cbar_kws={\"shrink\": .5})"
      ],
      "execution_count": 18,
      "outputs": [
        {
          "output_type": "execute_result",
          "data": {
            "text/plain": [
              "<matplotlib.axes._subplots.AxesSubplot at 0x7f50025a97d0>"
            ]
          },
          "metadata": {
            "tags": []
          },
          "execution_count": 18
        },
        {
          "output_type": "display_data",
          "data": {
            "image/png": "[encoded data removed]",
            "text/plain": [
              "<Figure size 1440x720 with 2 Axes>"
            ]
          },
          "metadata": {
            "tags": [],
            "needs_background": "light"
          }
        }
      ]
    },
    {
      "cell_type": "code",
      "metadata": {
        "colab": {
          "base_uri": "https://localhost:8080/",
          "height": 621
        },
        "id": "MMUkFSH-P6bD",
        "outputId": "4a9cfc0b-67da-4c43-e54a-e68b370b2d6a"
      },
      "source": [
        "# Transaction Class Distribution Plot\n",
        "labels = ['Valid', 'Fraud']\n",
        "plt.figure(figsize = (10,10))\n",
        "count_classes = pd.value_counts(data['Fraud'], sort = True)\n",
        "count_classes.plot(kind = 'bar', rot=0, color = 'blue', alpha = 0.5)\n",
        "plt.xticks(range(2), labels)\n",
        "plt.title(\"Transaction Class Distribution Graph\")\n",
        "plt.xlabel(\"Class\")\n",
        "plt.ylabel(\"Number of Observations\")\n",
        "plt.grid()\n",
        "plt.show()"
      ],
      "execution_count": 20,
      "outputs": [
        {
          "output_type": "display_data",
          "data": {
            "image/png": "[encoded data removed]",
            "text/plain": [
              "<Figure size 720x720 with 1 Axes>"
            ]
          },
          "metadata": {
            "tags": [],
            "needs_background": "light"
          }
        }
      ]
    },
    {
      "cell_type": "code",
      "metadata": {
        "colab": {
          "base_uri": "https://localhost:8080/"
        },
        "id": "OIxbbBQtw4BR",
        "outputId": "4496ff51-1548-4e1b-d6bd-ec3781b78ece"
      },
      "source": [
        "lenfraud = len(data[data.Fraud ==  1])\n",
        "lenfraud"
      ],
      "execution_count": 22,
      "outputs": [
        {
          "output_type": "execute_result",
          "data": {
            "text/plain": [
              "492"
            ]
          },
          "metadata": {
            "tags": []
          },
          "execution_count": 22
        }
      ]
    },
    {
      "cell_type": "code",
      "metadata": {
        "colab": {
          "base_uri": "https://localhost:8080/"
        },
        "id": "0YOOsQRoEtPm",
        "outputId": "755420ee-2d1f-4162-ab3b-3c8ad91f4fa7"
      },
      "source": [
        "lenvalid = 284807 - 492\n",
        "lenvalid"
      ],
      "execution_count": 23,
      "outputs": [
        {
          "output_type": "execute_result",
          "data": {
            "text/plain": [
              "284315"
            ]
          },
          "metadata": {
            "tags": []
          },
          "execution_count": 23
        }
      ]
    },
    {
      "cell_type": "code",
      "metadata": {
        "colab": {
          "base_uri": "https://localhost:8080/"
        },
        "id": "J_WqkwxDE2vx",
        "outputId": "4314cb9b-90cc-4bef-9341-f5d7d6853c65"
      },
      "source": [
        "percfraud = (lenfraud * 100) / len(data)\n",
        "percfraud"
      ],
      "execution_count": 24,
      "outputs": [
        {
          "output_type": "execute_result",
          "data": {
            "text/plain": [
              "0.1727485630620034"
            ]
          },
          "metadata": {
            "tags": []
          },
          "execution_count": 24
        }
      ]
    },
    {
      "cell_type": "code",
      "metadata": {
        "id": "o2kUcl5dE_Fk"
      },
      "source": [
        "# Making DataFrames Of Valid And Fraud Transactions To Check Important Stats\n",
        "Fraud_df = data[data.Fraud == 1]\n",
        "Valid_df = data[data.Fraud == 0]"
      ],
      "execution_count": 25,
      "outputs": []
    },
    {
      "cell_type": "code",
      "metadata": {
        "colab": {
          "base_uri": "https://localhost:8080/"
        },
        "id": "PnQBtYRLFPmI",
        "outputId": "04e31b7a-d55f-4994-cdff-d062d5820029"
      },
      "source": [
        "# Checking Important Stats of Amount used in Fraud Transactions\n",
        "Fraud_df.Amount.describe()"
      ],
      "execution_count": 26,
      "outputs": [
        {
          "output_type": "execute_result",
          "data": {
            "text/plain": [
              "count     492.000000\n",
              "mean      122.211321\n",
              "std       256.683288\n",
              "min         0.000000\n",
              "25%         1.000000\n",
              "50%         9.250000\n",
              "75%       105.890000\n",
              "max      2125.870000\n",
              "Name: Amount, dtype: float64"
            ]
          },
          "metadata": {
            "tags": []
          },
          "execution_count": 26
        }
      ]
    },
    {
      "cell_type": "code",
      "metadata": {
        "colab": {
          "base_uri": "https://localhost:8080/"
        },
        "id": "IbU5FRlNFS5J",
        "outputId": "559b7161-f608-4892-b4a6-01f62dc1909d"
      },
      "source": [
        "# Checking Imprtant Stats of Amount used in Valid Transactions\n",
        "Valid_df.Amount.describe()"
      ],
      "execution_count": 27,
      "outputs": [
        {
          "output_type": "execute_result",
          "data": {
            "text/plain": [
              "count    284315.000000\n",
              "mean         88.291022\n",
              "std         250.105092\n",
              "min           0.000000\n",
              "25%           5.650000\n",
              "50%          22.000000\n",
              "75%          77.050000\n",
              "max       25691.160000\n",
              "Name: Amount, dtype: float64"
            ]
          },
          "metadata": {
            "tags": []
          },
          "execution_count": 27
        }
      ]
    },
    {
      "cell_type": "code",
      "metadata": {
        "colab": {
          "base_uri": "https://localhost:8080/",
          "height": 308
        },
        "id": "-6793VDAFYg8",
        "outputId": "8bfba61d-8736-45b1-88cf-2c9ce7c01d96"
      },
      "source": [
        "# Amount per transaction by class\n",
        "fig, (ax1, ax2) = plt.subplots(2, 1, sharex=True)\n",
        "fig.suptitle('Amount Per Transaction Graph')\n",
        "\n",
        "bins = 50\n",
        "\n",
        "ax1.hist(Fraud_df.Amount, bins = bins, color='blue')\n",
        "ax1.set_title('Fraud Transactions')\n",
        "\n",
        "ax2.hist(Valid_df.Amount, bins = bins, color='red', alpha = 0.5)\n",
        "ax2.set_title('Valid Transactions')\n",
        "\n",
        "plt.xlabel('Amount ($)')\n",
        "plt.ylabel('Number of Transactions')\n",
        "plt.xlim((0, 20000))\n",
        "plt.yscale('log')\n",
        "plt.show();"
      ],
      "execution_count": 28,
      "outputs": [
        {
          "output_type": "display_data",
          "data": {
            "image/png": "[encoded data removed]",
            "text/plain": [
              "<Figure size 432x288 with 2 Axes>"
            ]
          },
          "metadata": {
            "tags": [],
            "needs_background": "light"
          }
        }
      ]
    },
    {
      "cell_type": "code",
      "metadata": {
        "colab": {
          "base_uri": "https://localhost:8080/",
          "height": 308
        },
        "id": "AAYds7Q5Fgj_",
        "outputId": "a6b13b9f-c2b0-4e65-abc3-a212cebc19a0"
      },
      "source": [
        "# Time of transaction vs Amount by class\n",
        "fig, (ax1, ax2) = plt.subplots(2, 1, sharex=True)\n",
        "fig.suptitle('Time of Transaction VS Amount of Transaction Graph')\n",
        "\n",
        "ax1.scatter(Fraud_df.Time, Fraud_df.Amount)\n",
        "ax1.set_title('Fraud Transactions')\n",
        "\n",
        "ax2.scatter(Valid_df.Time,Valid_df.Amount)\n",
        "ax2.set_title('Valid Transactions')\n",
        "\n",
        "plt.xlabel('Time (In Seconds)')\n",
        "plt.ylabel('Amount')\n",
        "plt.show()"
      ],
      "execution_count": 29,
      "outputs": [
        {
          "output_type": "display_data",
          "data": {
            "image/png": "[encoded data removed]",
            "text/plain": [
              "<Figure size 432x288 with 2 Axes>"
            ]
          },
          "metadata": {
            "tags": [],
            "needs_background": "light"
          }
        }
      ]
    },
    {
      "cell_type": "code",
      "metadata": {
        "id": "d0_1pyF1FsLX"
      },
      "source": [
        "# Normalizing Data\n",
        "# We Need To Normalize Two Features: Time And Amount\n",
        "from sklearn.preprocessing import StandardScaler\n",
        "df_norm = data\n",
        "df_norm['Time'] = StandardScaler().fit_transform(df_norm['Time'].values.reshape(-1, 1))\n",
        "df_norm['Amount'] = StandardScaler().fit_transform(df_norm['Amount'].values.reshape(-1, 1))"
      ],
      "execution_count": 31,
      "outputs": []
    },
    {
      "cell_type": "code",
      "metadata": {
        "id": "u3X9tyHUFyIP"
      },
      "source": [
        "#Splitting Dataset Into Testing and Training Data"
      ],
      "execution_count": 32,
      "outputs": []
    },
    {
      "cell_type": "code",
      "metadata": {
        "colab": {
          "base_uri": "https://localhost:8080/"
        },
        "id": "XDy4xaDSF6RC",
        "outputId": "68919928-28e6-4f01-da7d-a6b0b410248d"
      },
      "source": [
        "# Training Data\n",
        "train_data = df_norm.iloc[:199365,:]\n",
        "train_data.shape"
      ],
      "execution_count": 33,
      "outputs": [
        {
          "output_type": "execute_result",
          "data": {
            "text/plain": [
              "(199365, 31)"
            ]
          },
          "metadata": {
            "tags": []
          },
          "execution_count": 33
        }
      ]
    },
    {
      "cell_type": "code",
      "metadata": {
        "colab": {
          "base_uri": "https://localhost:8080/"
        },
        "id": "1M6_KAlPF9EX",
        "outputId": "c5b39c4d-c6be-4067-8905-bbbf68ecd0a8"
      },
      "source": [
        "# Testing Data\n",
        "test_data = df_norm.iloc[199365:,:]\n",
        "test_data.shape"
      ],
      "execution_count": 34,
      "outputs": [
        {
          "output_type": "execute_result",
          "data": {
            "text/plain": [
              "(85442, 31)"
            ]
          },
          "metadata": {
            "tags": []
          },
          "execution_count": 34
        }
      ]
    },
    {
      "cell_type": "code",
      "metadata": {
        "colab": {
          "base_uri": "https://localhost:8080/",
          "height": 224
        },
        "id": "SS2Oa2vLGCBY",
        "outputId": "359ffc81-6c9e-41af-f330-09939b2aa81b"
      },
      "source": [
        "# Shuffling Training And Testing Data\n",
        "train_data = train_data.sample(frac=1)\n",
        "train_data.head()"
      ],
      "execution_count": 35,
      "outputs": [
        {
          "output_type": "execute_result",
          "data": {
            "text/html": [
              "<div>\n",
              "<style scoped>\n",
              "    .dataframe tbody tr th:only-of-type {\n",
              "        vertical-align: middle;\n",
              "    }\n",
              "\n",
              "    .dataframe tbody tr th {\n",
              "        vertical-align: top;\n",
              "    }\n",
              "\n",
              "    .dataframe thead th {\n",
              "        text-align: right;\n",
              "    }\n",
              "</style>\n",
              "<table border=\"1\" class=\"dataframe\">\n",
              "  <thead>\n",
              "    <tr style=\"text-align: right;\">\n",
              "      <th></th>\n",
              "      <th>Time</th>\n",
              "      <th>V1</th>\n",
              "      <th>V2</th>\n",
              "      <th>V3</th>\n",
              "      <th>V4</th>\n",
              "      <th>V5</th>\n",
              "      <th>V6</th>\n",
              "      <th>V7</th>\n",
              "      <th>V8</th>\n",
              "      <th>V9</th>\n",
              "      <th>V10</th>\n",
              "      <th>V11</th>\n",
              "      <th>V12</th>\n",
              "      <th>V13</th>\n",
              "      <th>V14</th>\n",
              "      <th>V15</th>\n",
              "      <th>V16</th>\n",
              "      <th>V17</th>\n",
              "      <th>V18</th>\n",
              "      <th>V19</th>\n",
              "      <th>V20</th>\n",
              "      <th>V21</th>\n",
              "      <th>V22</th>\n",
              "      <th>V23</th>\n",
              "      <th>V24</th>\n",
              "      <th>V25</th>\n",
              "      <th>V26</th>\n",
              "      <th>V27</th>\n",
              "      <th>V28</th>\n",
              "      <th>Amount</th>\n",
              "      <th>Fraud</th>\n",
              "    </tr>\n",
              "  </thead>\n",
              "  <tbody>\n",
              "    <tr>\n",
              "      <th>152845</th>\n",
              "      <td>0.056185</td>\n",
              "      <td>1.979659</td>\n",
              "      <td>-0.388794</td>\n",
              "      <td>0.091306</td>\n",
              "      <td>0.440773</td>\n",
              "      <td>-0.680497</td>\n",
              "      <td>0.011049</td>\n",
              "      <td>-0.980511</td>\n",
              "      <td>0.001850</td>\n",
              "      <td>2.557641</td>\n",
              "      <td>-0.418712</td>\n",
              "      <td>0.104010</td>\n",
              "      <td>-1.859972</td>\n",
              "      <td>2.558120</td>\n",
              "      <td>0.954354</td>\n",
              "      <td>0.003527</td>\n",
              "      <td>0.649814</td>\n",
              "      <td>0.008333</td>\n",
              "      <td>0.273873</td>\n",
              "      <td>-0.481629</td>\n",
              "      <td>-0.130353</td>\n",
              "      <td>-0.115486</td>\n",
              "      <td>0.052401</td>\n",
              "      <td>0.344402</td>\n",
              "      <td>0.691787</td>\n",
              "      <td>-0.572151</td>\n",
              "      <td>0.408219</td>\n",
              "      <td>-0.040675</td>\n",
              "      <td>-0.035201</td>\n",
              "      <td>-0.289460</td>\n",
              "      <td>0</td>\n",
              "    </tr>\n",
              "    <tr>\n",
              "      <th>169284</th>\n",
              "      <td>0.522345</td>\n",
              "      <td>-0.272874</td>\n",
              "      <td>0.418744</td>\n",
              "      <td>-1.369366</td>\n",
              "      <td>-1.747570</td>\n",
              "      <td>3.500788</td>\n",
              "      <td>3.254872</td>\n",
              "      <td>1.024568</td>\n",
              "      <td>0.563872</td>\n",
              "      <td>-0.333527</td>\n",
              "      <td>-0.240433</td>\n",
              "      <td>-0.288867</td>\n",
              "      <td>-0.176292</td>\n",
              "      <td>-0.549779</td>\n",
              "      <td>0.325193</td>\n",
              "      <td>-0.433112</td>\n",
              "      <td>-0.764141</td>\n",
              "      <td>-0.352004</td>\n",
              "      <td>-0.801279</td>\n",
              "      <td>-0.066019</td>\n",
              "      <td>0.216388</td>\n",
              "      <td>0.003025</td>\n",
              "      <td>0.228734</td>\n",
              "      <td>-0.127613</td>\n",
              "      <td>0.753415</td>\n",
              "      <td>-0.153613</td>\n",
              "      <td>0.480323</td>\n",
              "      <td>0.172961</td>\n",
              "      <td>0.001032</td>\n",
              "      <td>-0.196944</td>\n",
              "      <td>0</td>\n",
              "    </tr>\n",
              "    <tr>\n",
              "      <th>117800</th>\n",
              "      <td>-0.421134</td>\n",
              "      <td>-1.456235</td>\n",
              "      <td>1.068063</td>\n",
              "      <td>1.389263</td>\n",
              "      <td>-1.426493</td>\n",
              "      <td>-0.415747</td>\n",
              "      <td>-1.006171</td>\n",
              "      <td>0.941513</td>\n",
              "      <td>-0.300238</td>\n",
              "      <td>0.867460</td>\n",
              "      <td>0.518437</td>\n",
              "      <td>-0.402138</td>\n",
              "      <td>-0.420434</td>\n",
              "      <td>-0.576298</td>\n",
              "      <td>-0.407550</td>\n",
              "      <td>0.679986</td>\n",
              "      <td>0.508032</td>\n",
              "      <td>-0.795107</td>\n",
              "      <td>-0.368768</td>\n",
              "      <td>-0.755683</td>\n",
              "      <td>0.318225</td>\n",
              "      <td>-0.261638</td>\n",
              "      <td>-0.276897</td>\n",
              "      <td>-0.114852</td>\n",
              "      <td>0.398590</td>\n",
              "      <td>-0.246172</td>\n",
              "      <td>0.697849</td>\n",
              "      <td>0.322829</td>\n",
              "      <td>0.164233</td>\n",
              "      <td>-0.091555</td>\n",
              "      <td>0</td>\n",
              "    </tr>\n",
              "    <tr>\n",
              "      <th>112858</th>\n",
              "      <td>-0.462955</td>\n",
              "      <td>1.371371</td>\n",
              "      <td>-0.653642</td>\n",
              "      <td>0.470721</td>\n",
              "      <td>-0.434235</td>\n",
              "      <td>-1.201336</td>\n",
              "      <td>-0.836790</td>\n",
              "      <td>-0.601014</td>\n",
              "      <td>-0.117129</td>\n",
              "      <td>-0.300821</td>\n",
              "      <td>0.513769</td>\n",
              "      <td>-0.754495</td>\n",
              "      <td>-0.838267</td>\n",
              "      <td>-0.905256</td>\n",
              "      <td>-0.275792</td>\n",
              "      <td>-0.383428</td>\n",
              "      <td>0.622410</td>\n",
              "      <td>0.734677</td>\n",
              "      <td>-1.650640</td>\n",
              "      <td>0.941932</td>\n",
              "      <td>0.007585</td>\n",
              "      <td>-0.025615</td>\n",
              "      <td>-0.052416</td>\n",
              "      <td>-0.030961</td>\n",
              "      <td>0.399722</td>\n",
              "      <td>0.521363</td>\n",
              "      <td>-0.242727</td>\n",
              "      <td>0.005539</td>\n",
              "      <td>0.013229</td>\n",
              "      <td>-0.269270</td>\n",
              "      <td>0</td>\n",
              "    </tr>\n",
              "    <tr>\n",
              "      <th>23611</th>\n",
              "      <td>-1.305020</td>\n",
              "      <td>-1.757948</td>\n",
              "      <td>-1.748385</td>\n",
              "      <td>1.144428</td>\n",
              "      <td>-1.569417</td>\n",
              "      <td>-0.022216</td>\n",
              "      <td>-0.648211</td>\n",
              "      <td>0.591681</td>\n",
              "      <td>0.001801</td>\n",
              "      <td>-1.053593</td>\n",
              "      <td>-0.395916</td>\n",
              "      <td>-1.819251</td>\n",
              "      <td>-0.958547</td>\n",
              "      <td>-0.068597</td>\n",
              "      <td>-0.133360</td>\n",
              "      <td>-0.008996</td>\n",
              "      <td>-0.237157</td>\n",
              "      <td>-1.142290</td>\n",
              "      <td>1.848792</td>\n",
              "      <td>-2.445216</td>\n",
              "      <td>0.301224</td>\n",
              "      <td>0.110595</td>\n",
              "      <td>-0.162455</td>\n",
              "      <td>0.618714</td>\n",
              "      <td>-0.501489</td>\n",
              "      <td>0.219742</td>\n",
              "      <td>0.366974</td>\n",
              "      <td>-0.095450</td>\n",
              "      <td>0.145973</td>\n",
              "      <td>0.905768</td>\n",
              "      <td>0</td>\n",
              "    </tr>\n",
              "  </tbody>\n",
              "</table>\n",
              "</div>"
            ],
            "text/plain": [
              "            Time        V1        V2  ...       V28    Amount  Fraud\n",
              "152845  0.056185  1.979659 -0.388794  ... -0.035201 -0.289460      0\n",
              "169284  0.522345 -0.272874  0.418744  ...  0.001032 -0.196944      0\n",
              "117800 -0.421134 -1.456235  1.068063  ...  0.164233 -0.091555      0\n",
              "112858 -0.462955  1.371371 -0.653642  ...  0.013229 -0.269270      0\n",
              "23611  -1.305020 -1.757948 -1.748385  ...  0.145973  0.905768      0\n",
              "\n",
              "[5 rows x 31 columns]"
            ]
          },
          "metadata": {
            "tags": []
          },
          "execution_count": 35
        }
      ]
    },
    {
      "cell_type": "code",
      "metadata": {
        "colab": {
          "base_uri": "https://localhost:8080/",
          "height": 224
        },
        "id": "Y480ketiGmqM",
        "outputId": "1c644b06-06f1-4497-b955-edc3e37f1a25"
      },
      "source": [
        "test_data = test_data.sample(frac = 1)\n",
        "test_data.head()"
      ],
      "execution_count": 36,
      "outputs": [
        {
          "output_type": "execute_result",
          "data": {
            "text/html": [
              "<div>\n",
              "<style scoped>\n",
              "    .dataframe tbody tr th:only-of-type {\n",
              "        vertical-align: middle;\n",
              "    }\n",
              "\n",
              "    .dataframe tbody tr th {\n",
              "        vertical-align: top;\n",
              "    }\n",
              "\n",
              "    .dataframe thead th {\n",
              "        text-align: right;\n",
              "    }\n",
              "</style>\n",
              "<table border=\"1\" class=\"dataframe\">\n",
              "  <thead>\n",
              "    <tr style=\"text-align: right;\">\n",
              "      <th></th>\n",
              "      <th>Time</th>\n",
              "      <th>V1</th>\n",
              "      <th>V2</th>\n",
              "      <th>V3</th>\n",
              "      <th>V4</th>\n",
              "      <th>V5</th>\n",
              "      <th>V6</th>\n",
              "      <th>V7</th>\n",
              "      <th>V8</th>\n",
              "      <th>V9</th>\n",
              "      <th>V10</th>\n",
              "      <th>V11</th>\n",
              "      <th>V12</th>\n",
              "      <th>V13</th>\n",
              "      <th>V14</th>\n",
              "      <th>V15</th>\n",
              "      <th>V16</th>\n",
              "      <th>V17</th>\n",
              "      <th>V18</th>\n",
              "      <th>V19</th>\n",
              "      <th>V20</th>\n",
              "      <th>V21</th>\n",
              "      <th>V22</th>\n",
              "      <th>V23</th>\n",
              "      <th>V24</th>\n",
              "      <th>V25</th>\n",
              "      <th>V26</th>\n",
              "      <th>V27</th>\n",
              "      <th>V28</th>\n",
              "      <th>Amount</th>\n",
              "      <th>Fraud</th>\n",
              "    </tr>\n",
              "  </thead>\n",
              "  <tbody>\n",
              "    <tr>\n",
              "      <th>254341</th>\n",
              "      <td>1.302857</td>\n",
              "      <td>-1.026815</td>\n",
              "      <td>1.347655</td>\n",
              "      <td>1.678999</td>\n",
              "      <td>1.076095</td>\n",
              "      <td>-0.159834</td>\n",
              "      <td>0.332380</td>\n",
              "      <td>0.180416</td>\n",
              "      <td>0.674214</td>\n",
              "      <td>-0.151169</td>\n",
              "      <td>-0.725992</td>\n",
              "      <td>-1.147018</td>\n",
              "      <td>0.396502</td>\n",
              "      <td>-0.353512</td>\n",
              "      <td>0.012568</td>\n",
              "      <td>-0.774329</td>\n",
              "      <td>-0.919256</td>\n",
              "      <td>0.705391</td>\n",
              "      <td>-0.708746</td>\n",
              "      <td>1.122851</td>\n",
              "      <td>0.022037</td>\n",
              "      <td>-0.501306</td>\n",
              "      <td>-1.255198</td>\n",
              "      <td>-0.043672</td>\n",
              "      <td>1.013196</td>\n",
              "      <td>0.369165</td>\n",
              "      <td>-0.829902</td>\n",
              "      <td>0.233131</td>\n",
              "      <td>0.090088</td>\n",
              "      <td>-0.345273</td>\n",
              "      <td>0</td>\n",
              "    </tr>\n",
              "    <tr>\n",
              "      <th>229687</th>\n",
              "      <td>1.078211</td>\n",
              "      <td>2.018363</td>\n",
              "      <td>0.303747</td>\n",
              "      <td>-2.488605</td>\n",
              "      <td>0.600161</td>\n",
              "      <td>0.953914</td>\n",
              "      <td>-0.449094</td>\n",
              "      <td>0.133268</td>\n",
              "      <td>-0.107385</td>\n",
              "      <td>0.363103</td>\n",
              "      <td>-0.920929</td>\n",
              "      <td>1.113565</td>\n",
              "      <td>0.800770</td>\n",
              "      <td>0.531263</td>\n",
              "      <td>-2.635944</td>\n",
              "      <td>-1.101799</td>\n",
              "      <td>0.654236</td>\n",
              "      <td>1.556807</td>\n",
              "      <td>1.204238</td>\n",
              "      <td>0.190923</td>\n",
              "      <td>-0.037320</td>\n",
              "      <td>0.009511</td>\n",
              "      <td>0.319022</td>\n",
              "      <td>-0.089391</td>\n",
              "      <td>0.162185</td>\n",
              "      <td>0.278422</td>\n",
              "      <td>0.697577</td>\n",
              "      <td>-0.041581</td>\n",
              "      <td>-0.017364</td>\n",
              "      <td>-0.304013</td>\n",
              "      <td>0</td>\n",
              "    </tr>\n",
              "    <tr>\n",
              "      <th>271478</th>\n",
              "      <td>1.469383</td>\n",
              "      <td>1.810774</td>\n",
              "      <td>-0.473633</td>\n",
              "      <td>-1.951559</td>\n",
              "      <td>0.311068</td>\n",
              "      <td>0.597680</td>\n",
              "      <td>-0.164471</td>\n",
              "      <td>0.442870</td>\n",
              "      <td>-0.183061</td>\n",
              "      <td>0.092342</td>\n",
              "      <td>0.224984</td>\n",
              "      <td>0.347319</td>\n",
              "      <td>0.919520</td>\n",
              "      <td>0.251410</td>\n",
              "      <td>0.544234</td>\n",
              "      <td>-0.750923</td>\n",
              "      <td>0.080407</td>\n",
              "      <td>-0.740535</td>\n",
              "      <td>-0.049561</td>\n",
              "      <td>0.577728</td>\n",
              "      <td>0.125984</td>\n",
              "      <td>-0.033843</td>\n",
              "      <td>-0.318928</td>\n",
              "      <td>-0.001453</td>\n",
              "      <td>0.126467</td>\n",
              "      <td>0.039582</td>\n",
              "      <td>0.193104</td>\n",
              "      <td>-0.109190</td>\n",
              "      <td>-0.051233</td>\n",
              "      <td>0.230091</td>\n",
              "      <td>0</td>\n",
              "    </tr>\n",
              "    <tr>\n",
              "      <th>211392</th>\n",
              "      <td>0.917665</td>\n",
              "      <td>0.008449</td>\n",
              "      <td>-0.853149</td>\n",
              "      <td>-0.045201</td>\n",
              "      <td>-2.105830</td>\n",
              "      <td>0.370723</td>\n",
              "      <td>-0.616640</td>\n",
              "      <td>-0.083120</td>\n",
              "      <td>0.112211</td>\n",
              "      <td>-0.683243</td>\n",
              "      <td>0.222767</td>\n",
              "      <td>0.524294</td>\n",
              "      <td>-0.052971</td>\n",
              "      <td>-0.496442</td>\n",
              "      <td>-0.104580</td>\n",
              "      <td>-1.836844</td>\n",
              "      <td>1.333536</td>\n",
              "      <td>-0.299829</td>\n",
              "      <td>-1.336630</td>\n",
              "      <td>0.264161</td>\n",
              "      <td>0.089762</td>\n",
              "      <td>0.079335</td>\n",
              "      <td>-0.106114</td>\n",
              "      <td>0.827136</td>\n",
              "      <td>0.619351</td>\n",
              "      <td>-2.346434</td>\n",
              "      <td>-1.164059</td>\n",
              "      <td>0.317031</td>\n",
              "      <td>0.371651</td>\n",
              "      <td>-0.103429</td>\n",
              "      <td>0</td>\n",
              "    </tr>\n",
              "    <tr>\n",
              "      <th>239125</th>\n",
              "      <td>1.161347</td>\n",
              "      <td>0.182956</td>\n",
              "      <td>1.136937</td>\n",
              "      <td>-1.079693</td>\n",
              "      <td>-0.037663</td>\n",
              "      <td>0.338222</td>\n",
              "      <td>-1.328717</td>\n",
              "      <td>0.671538</td>\n",
              "      <td>0.082821</td>\n",
              "      <td>-0.221663</td>\n",
              "      <td>-1.150139</td>\n",
              "      <td>-0.712201</td>\n",
              "      <td>0.112960</td>\n",
              "      <td>0.498597</td>\n",
              "      <td>-0.616035</td>\n",
              "      <td>0.610271</td>\n",
              "      <td>0.232747</td>\n",
              "      <td>0.507967</td>\n",
              "      <td>0.712408</td>\n",
              "      <td>-0.203014</td>\n",
              "      <td>-0.173652</td>\n",
              "      <td>0.333263</td>\n",
              "      <td>0.955280</td>\n",
              "      <td>-0.075000</td>\n",
              "      <td>-0.169926</td>\n",
              "      <td>-0.227703</td>\n",
              "      <td>-0.144815</td>\n",
              "      <td>-0.071783</td>\n",
              "      <td>-0.046013</td>\n",
              "      <td>-0.245681</td>\n",
              "      <td>0</td>\n",
              "    </tr>\n",
              "  </tbody>\n",
              "</table>\n",
              "</div>"
            ],
            "text/plain": [
              "            Time        V1        V2  ...       V28    Amount  Fraud\n",
              "254341  1.302857 -1.026815  1.347655  ...  0.090088 -0.345273      0\n",
              "229687  1.078211  2.018363  0.303747  ... -0.017364 -0.304013      0\n",
              "271478  1.469383  1.810774 -0.473633  ... -0.051233  0.230091      0\n",
              "211392  0.917665  0.008449 -0.853149  ...  0.371651 -0.103429      0\n",
              "239125  1.161347  0.182956  1.136937  ... -0.046013 -0.245681      0\n",
              "\n",
              "[5 rows x 31 columns]"
            ]
          },
          "metadata": {
            "tags": []
          },
          "execution_count": 36
        }
      ]
    },
    {
      "cell_type": "code",
      "metadata": {
        "id": "nG2aactQGqLc"
      },
      "source": [
        "# Droping Labels From Training And Testing Data\n",
        "train_labels = train_data.pop('Fraud')\n",
        "# train_labels = train_labels.values\n",
        "test_labels = test_data.pop('Fraud')\n",
        "# test_labels = test_labels.values"
      ],
      "execution_count": 37,
      "outputs": []
    },
    {
      "cell_type": "code",
      "metadata": {
        "colab": {
          "base_uri": "https://localhost:8080/"
        },
        "id": "vj_gn8MxGw61",
        "outputId": "5c69a8d6-df9c-412a-e4c5-382679a21b72"
      },
      "source": [
        "train_labels "
      ],
      "execution_count": 38,
      "outputs": [
        {
          "output_type": "execute_result",
          "data": {
            "text/plain": [
              "152845    0\n",
              "169284    0\n",
              "117800    0\n",
              "112858    0\n",
              "23611     0\n",
              "         ..\n",
              "94883     0\n",
              "184886    0\n",
              "58065     0\n",
              "6509      0\n",
              "34504     0\n",
              "Name: Fraud, Length: 199365, dtype: int64"
            ]
          },
          "metadata": {
            "tags": []
          },
          "execution_count": 38
        }
      ]
    },
    {
      "cell_type": "code",
      "metadata": {
        "colab": {
          "base_uri": "https://localhost:8080/"
        },
        "id": "Z7mcO1_aG3lg",
        "outputId": "12fb8d53-f449-411d-8d37-55739b596f24"
      },
      "source": [
        "test_labels"
      ],
      "execution_count": 39,
      "outputs": [
        {
          "output_type": "execute_result",
          "data": {
            "text/plain": [
              "254341    0\n",
              "229687    0\n",
              "271478    0\n",
              "211392    0\n",
              "239125    0\n",
              "         ..\n",
              "240158    0\n",
              "233223    0\n",
              "261698    0\n",
              "216784    0\n",
              "270549    0\n",
              "Name: Fraud, Length: 85442, dtype: int64"
            ]
          },
          "metadata": {
            "tags": []
          },
          "execution_count": 39
        }
      ]
    },
    {
      "cell_type": "code",
      "metadata": {
        "colab": {
          "base_uri": "https://localhost:8080/"
        },
        "id": "c10d6EWwG8X1",
        "outputId": "72a16453-3010-405b-e183-0e3b7bcadb13"
      },
      "source": [
        "# Building Base Model\n",
        "model = Sequential()\n",
        "model.add(Dense(10, activation = 'relu', input_shape = [len(train_data.keys())]))\n",
        "model.add(Dense(8, activation = 'relu'))\n",
        "model.add(Dense(6, activation = 'relu'))\n",
        "model.add(Dense(1, activation='sigmoid'))\n",
        "model.compile(optimizer = 'adam', loss = 'binary_crossentropy', metrics = ['accuracy'])\n",
        "model.summary()"
      ],
      "execution_count": 40,
      "outputs": [
        {
          "output_type": "stream",
          "text": [
            "Model: \"sequential\"\n",
            "_________________________________________________________________\n",
            "Layer (type)                 Output Shape              Param #   \n",
            "=================================================================\n",
            "dense (Dense)                (None, 10)                310       \n",
            "_________________________________________________________________\n",
            "dense_1 (Dense)              (None, 8)                 88        \n",
            "_________________________________________________________________\n",
            "dense_2 (Dense)              (None, 6)                 54        \n",
            "_________________________________________________________________\n",
            "dense_3 (Dense)              (None, 1)                 7         \n",
            "=================================================================\n",
            "Total params: 459\n",
            "Trainable params: 459\n",
            "Non-trainable params: 0\n",
            "_________________________________________________________________\n"
          ],
          "name": "stdout"
        }
      ]
    },
    {
      "cell_type": "code",
      "metadata": {
        "id": "pUliHmy4HAG9"
      },
      "source": [
        "from keras.callbacks import ModelCheckpoint, TensorBoard\n",
        "checkpointer = ModelCheckpoint(filepath = 'CreditCardFraudDetectionModel.h5', verbose = 0, save_best_only = True)\n",
        "tensorboard = TensorBoard(log_dir = './logs', histogram_freq = 0, write_graph = True, write_images = True)"
      ],
      "execution_count": 41,
      "outputs": []
    },
    {
      "cell_type": "code",
      "metadata": {
        "colab": {
          "base_uri": "https://localhost:8080/"
        },
        "id": "02sdIpWmHEvU",
        "outputId": "c824f655-1a25-412b-aa68-6d97eaef4622"
      },
      "source": [
        "# Fitting Base Model On 100 Epochs\n",
        "history = model.fit(train_data, train_labels, epochs = 10, batch_size = 32, shuffle=True, validation_split=0.2, verbose = 1, callbacks=[checkpointer, tensorboard]).history"
      ],
      "execution_count": 43,
      "outputs": [
        {
          "output_type": "stream",
          "text": [
            "Epoch 1/10\n",
            "4985/4985 [==============================] - 8s 2ms/step - loss: 0.0016 - accuracy: 0.9996 - val_loss: 0.0026 - val_accuracy: 0.9994\n",
            "Epoch 2/10\n",
            "4985/4985 [==============================] - 8s 2ms/step - loss: 0.0017 - accuracy: 0.9996 - val_loss: 0.0029 - val_accuracy: 0.9993\n",
            "Epoch 3/10\n",
            "4985/4985 [==============================] - 8s 2ms/step - loss: 0.0015 - accuracy: 0.9996 - val_loss: 0.0033 - val_accuracy: 0.9992\n",
            "Epoch 4/10\n",
            "4985/4985 [==============================] - 8s 2ms/step - loss: 0.0016 - accuracy: 0.9996 - val_loss: 0.0033 - val_accuracy: 0.9991\n",
            "Epoch 5/10\n",
            "4985/4985 [==============================] - 8s 2ms/step - loss: 0.0016 - accuracy: 0.9996 - val_loss: 0.0030 - val_accuracy: 0.9994\n",
            "Epoch 6/10\n",
            "4985/4985 [==============================] - 8s 2ms/step - loss: 0.0015 - accuracy: 0.9996 - val_loss: 0.0031 - val_accuracy: 0.9993\n",
            "Epoch 7/10\n",
            "4985/4985 [==============================] - 8s 2ms/step - loss: 0.0015 - accuracy: 0.9996 - val_loss: 0.0031 - val_accuracy: 0.9993\n",
            "Epoch 8/10\n",
            "4985/4985 [==============================] - 8s 2ms/step - loss: 0.0015 - accuracy: 0.9996 - val_loss: 0.0030 - val_accuracy: 0.9994\n",
            "Epoch 9/10\n",
            "4985/4985 [==============================] - 8s 2ms/step - loss: 0.0016 - accuracy: 0.9995 - val_loss: 0.0029 - val_accuracy: 0.9994\n",
            "Epoch 10/10\n",
            "4985/4985 [==============================] - 8s 2ms/step - loss: 0.0015 - accuracy: 0.9996 - val_loss: 0.0034 - val_accuracy: 0.9993\n"
          ],
          "name": "stdout"
        }
      ]
    },
    {
      "cell_type": "code",
      "metadata": {
        "colab": {
          "base_uri": "https://localhost:8080/",
          "height": 204
        },
        "id": "oONI6BhCHlGc",
        "outputId": "082b143d-c104-4d81-8e16-06d7c9adf687"
      },
      "source": [
        "# Storing History In A Data Frame\n",
        "history_df = pd.DataFrame(history)\n",
        "history_df.tail()"
      ],
      "execution_count": 44,
      "outputs": [
        {
          "output_type": "execute_result",
          "data": {
            "text/html": [
              "<div>\n",
              "<style scoped>\n",
              "    .dataframe tbody tr th:only-of-type {\n",
              "        vertical-align: middle;\n",
              "    }\n",
              "\n",
              "    .dataframe tbody tr th {\n",
              "        vertical-align: top;\n",
              "    }\n",
              "\n",
              "    .dataframe thead th {\n",
              "        text-align: right;\n",
              "    }\n",
              "</style>\n",
              "<table border=\"1\" class=\"dataframe\">\n",
              "  <thead>\n",
              "    <tr style=\"text-align: right;\">\n",
              "      <th></th>\n",
              "      <th>loss</th>\n",
              "      <th>accuracy</th>\n",
              "      <th>val_loss</th>\n",
              "      <th>val_accuracy</th>\n",
              "    </tr>\n",
              "  </thead>\n",
              "  <tbody>\n",
              "    <tr>\n",
              "      <th>5</th>\n",
              "      <td>0.001496</td>\n",
              "      <td>0.999586</td>\n",
              "      <td>0.003089</td>\n",
              "      <td>0.999323</td>\n",
              "    </tr>\n",
              "    <tr>\n",
              "      <th>6</th>\n",
              "      <td>0.001533</td>\n",
              "      <td>0.999580</td>\n",
              "      <td>0.003137</td>\n",
              "      <td>0.999348</td>\n",
              "    </tr>\n",
              "    <tr>\n",
              "      <th>7</th>\n",
              "      <td>0.001475</td>\n",
              "      <td>0.999586</td>\n",
              "      <td>0.003043</td>\n",
              "      <td>0.999398</td>\n",
              "    </tr>\n",
              "    <tr>\n",
              "      <th>8</th>\n",
              "      <td>0.001608</td>\n",
              "      <td>0.999542</td>\n",
              "      <td>0.002903</td>\n",
              "      <td>0.999373</td>\n",
              "    </tr>\n",
              "    <tr>\n",
              "      <th>9</th>\n",
              "      <td>0.001517</td>\n",
              "      <td>0.999561</td>\n",
              "      <td>0.003380</td>\n",
              "      <td>0.999348</td>\n",
              "    </tr>\n",
              "  </tbody>\n",
              "</table>\n",
              "</div>"
            ],
            "text/plain": [
              "       loss  accuracy  val_loss  val_accuracy\n",
              "5  0.001496  0.999586  0.003089      0.999323\n",
              "6  0.001533  0.999580  0.003137      0.999348\n",
              "7  0.001475  0.999586  0.003043      0.999398\n",
              "8  0.001608  0.999542  0.002903      0.999373\n",
              "9  0.001517  0.999561  0.003380      0.999348"
            ]
          },
          "metadata": {
            "tags": []
          },
          "execution_count": 44
        }
      ]
    },
    {
      "cell_type": "code",
      "metadata": {
        "colab": {
          "base_uri": "https://localhost:8080/",
          "height": 295
        },
        "id": "nu928KuGKDuX",
        "outputId": "c55f45de-16b5-42c1-d451-fa03289a49fa"
      },
      "source": [
        "# Plotting Loss and Accuracy\n",
        "plt.plot(history_df['loss'])\n",
        "plt.plot(history_df['accuracy'])\n",
        "plt.plot(history_df['val_loss'])\n",
        "plt.plot(history_df['val_accuracy'])\n",
        "plt.title('Model Loss')\n",
        "plt.ylabel('Loss')\n",
        "plt.xlabel('Epoch')\n",
        "plt.legend(['Training Loss', 'Training Accuracy', 'Validation Loss', 'Validation Accuracy'], loc='upper right');"
      ],
      "execution_count": 45,
      "outputs": [
        {
          "output_type": "display_data",
          "data": {
            "image/png": "[encoded data removed]",
            "text/plain": [
              "<Figure size 432x288 with 1 Axes>"
            ]
          },
          "metadata": {
            "tags": [],
            "needs_background": "light"
          }
        }
      ]
    },
    {
      "cell_type": "code",
      "metadata": {
        "id": "kOUJV23GKHC9"
      },
      "source": [
        "# Making Predictions On Test Data\n",
        "predictions = model.predict(test_data)\n",
        "predictions = predictions.flatten()"
      ],
      "execution_count": 46,
      "outputs": []
    },
    {
      "cell_type": "code",
      "metadata": {
        "colab": {
          "base_uri": "https://localhost:8080/"
        },
        "id": "p1W58bOMKKW_",
        "outputId": "4ef372d3-3e60-4089-946c-9b34dab6efea"
      },
      "source": [
        "predictions"
      ],
      "execution_count": 47,
      "outputs": [
        {
          "output_type": "execute_result",
          "data": {
            "text/plain": [
              "array([2.3613525e-10, 1.6867725e-05, 9.5907185e-11, ..., 4.3968570e-12,\n",
              "       6.7402620e-14, 3.2695194e-11], dtype=float32)"
            ]
          },
          "metadata": {
            "tags": []
          },
          "execution_count": 47
        }
      ]
    },
    {
      "cell_type": "code",
      "metadata": {
        "colab": {
          "base_uri": "https://localhost:8080/"
        },
        "id": "Pw9FDyFcKNtV",
        "outputId": "fbca41ac-8556-4c7a-ebd4-99b69c965f8b"
      },
      "source": [
        "# Testing Model On Testing Data\n",
        "testing = model.evaluate(test_data, test_labels)"
      ],
      "execution_count": 48,
      "outputs": [
        {
          "output_type": "stream",
          "text": [
            "2671/2671 [==============================] - 3s 1ms/step - loss: 0.0067 - accuracy: 0.9994\n"
          ],
          "name": "stdout"
        }
      ]
    },
    {
      "cell_type": "code",
      "metadata": {
        "colab": {
          "base_uri": "https://localhost:8080/"
        },
        "id": "9tRrBSjXKQqO",
        "outputId": "46524fa8-6054-4f8c-eb91-8ee1ebc49ad0"
      },
      "source": [
        "print(f\"Test Loss: {testing[0]}\")\n",
        "print(f\"Test Accuracy: {testing[1]}\")"
      ],
      "execution_count": 49,
      "outputs": [
        {
          "output_type": "stream",
          "text": [
            "Test Loss: 0.006739362142980099\n",
            "Test Accuracy: 0.9994148015975952\n"
          ],
          "name": "stdout"
        }
      ]
    },
    {
      "cell_type": "code",
      "metadata": {
        "colab": {
          "base_uri": "https://localhost:8080/",
          "height": 281
        },
        "id": "tALC_iRmKVDP",
        "outputId": "a5fe46c3-69be-48fd-f51b-10868d615168"
      },
      "source": [
        "# Plotting Confusion Matrix\n",
        "from sklearn.metrics import confusion_matrix, classification_report\n",
        "# y_pred = model.predict(X_test)\n",
        "y_test = pd.DataFrame(testing)\n",
        "cm = confusion_matrix(test_labels, predictions.round())\n",
        "sns.heatmap(cm, annot=True, fmt='.0f', cmap='cividis_r')\n",
        "plt.title(\"Confusion Matrix\")\n",
        "plt.show()"
      ],
      "execution_count": 53,
      "outputs": [
        {
          "output_type": "display_data",
          "data": {
            "image/png": "[encoded data removed]",
            "text/plain": [
              "<Figure size 432x288 with 2 Axes>"
            ]
          },
          "metadata": {
            "tags": [],
            "needs_background": "light"
          }
        }
      ]
    },
    {
      "cell_type": "code",
      "metadata": {
        "id": "Xa7Mi0nfKZBY"
      },
      "source": [
        ""
      ],
      "execution_count": null,
      "outputs": []
    }
  ]
}